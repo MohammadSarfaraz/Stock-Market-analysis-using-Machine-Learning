{
 "cells": [
  {
   "cell_type": "markdown",
   "metadata": {},
   "source": [
    "<center><h1>STOCK MARKET ANALYSIS</h1></center>"
   ]
  },
  {
   "cell_type": "markdown",
   "metadata": {},
   "source": [
    "![](https://cdn0.iconfinder.com/data/icons/investment-line-asset-allocation/512/Fund_manager-512.png)"
   ]
  },
  {
   "cell_type": "markdown",
   "metadata": {},
   "source": [
    "Dependencies of Stock Market analysis"
   ]
  },
  {
   "cell_type": "code",
   "execution_count": 1,
   "metadata": {},
   "outputs": [],
   "source": [
    "import quandl\n",
    "import numpy as np\n",
    "from sklearn.linear_model import LinearRegression\n",
    "from sklearn.svm import SVR\n",
    "from sklearn.model_selection import train_test_split "
   ]
  },
  {
   "cell_type": "markdown",
   "metadata": {},
   "source": [
    "Get data from \"WIKI/FB\" in quandl module"
   ]
  },
  {
   "cell_type": "code",
   "execution_count": 2,
   "metadata": {},
   "outputs": [],
   "source": [
    "df= quandl.get(\"WIKI/FB\")"
   ]
  },
  {
   "cell_type": "markdown",
   "metadata": {},
   "source": [
    "Top 5 rows of stock data"
   ]
  },
  {
   "cell_type": "code",
   "execution_count": 3,
   "metadata": {},
   "outputs": [
    {
     "name": "stdout",
     "output_type": "stream",
     "text": [
      "             Open   High    Low    Close       Volume  Ex-Dividend  \\\n",
      "Date                                                                 \n",
      "2012-05-18  42.05  45.00  38.00  38.2318  573576400.0          0.0   \n",
      "2012-05-21  36.53  36.66  33.00  34.0300  168192700.0          0.0   \n",
      "2012-05-22  32.61  33.59  30.94  31.0000  101786600.0          0.0   \n",
      "2012-05-23  31.37  32.50  31.36  32.0000   73600000.0          0.0   \n",
      "2012-05-24  32.95  33.21  31.77  33.0300   50237200.0          0.0   \n",
      "\n",
      "            Split Ratio  Adj. Open  Adj. High  Adj. Low  Adj. Close  \\\n",
      "Date                                                                  \n",
      "2012-05-18          1.0      42.05      45.00     38.00     38.2318   \n",
      "2012-05-21          1.0      36.53      36.66     33.00     34.0300   \n",
      "2012-05-22          1.0      32.61      33.59     30.94     31.0000   \n",
      "2012-05-23          1.0      31.37      32.50     31.36     32.0000   \n",
      "2012-05-24          1.0      32.95      33.21     31.77     33.0300   \n",
      "\n",
      "            Adj. Volume  \n",
      "Date                     \n",
      "2012-05-18  573576400.0  \n",
      "2012-05-21  168192700.0  \n",
      "2012-05-22  101786600.0  \n",
      "2012-05-23   73600000.0  \n",
      "2012-05-24   50237200.0  \n"
     ]
    }
   ],
   "source": [
    "print(df.head())"
   ]
  },
  {
   "cell_type": "markdown",
   "metadata": {},
   "source": [
    "Take Adjested Close Price"
   ]
  },
  {
   "cell_type": "code",
   "execution_count": 4,
   "metadata": {},
   "outputs": [],
   "source": [
    "df=df[['Adj. Close']]"
   ]
  },
  {
   "cell_type": "markdown",
   "metadata": {},
   "source": [
    "Top 5 Rows of Adjested Close Price"
   ]
  },
  {
   "cell_type": "code",
   "execution_count": 5,
   "metadata": {},
   "outputs": [
    {
     "data": {
      "text/html": [
       "<div>\n",
       "<style scoped>\n",
       "    .dataframe tbody tr th:only-of-type {\n",
       "        vertical-align: middle;\n",
       "    }\n",
       "\n",
       "    .dataframe tbody tr th {\n",
       "        vertical-align: top;\n",
       "    }\n",
       "\n",
       "    .dataframe thead th {\n",
       "        text-align: right;\n",
       "    }\n",
       "</style>\n",
       "<table border=\"1\" class=\"dataframe\">\n",
       "  <thead>\n",
       "    <tr style=\"text-align: right;\">\n",
       "      <th></th>\n",
       "      <th>Adj. Close</th>\n",
       "    </tr>\n",
       "    <tr>\n",
       "      <th>Date</th>\n",
       "      <th></th>\n",
       "    </tr>\n",
       "  </thead>\n",
       "  <tbody>\n",
       "    <tr>\n",
       "      <td>2012-05-18</td>\n",
       "      <td>38.2318</td>\n",
       "    </tr>\n",
       "    <tr>\n",
       "      <td>2012-05-21</td>\n",
       "      <td>34.0300</td>\n",
       "    </tr>\n",
       "    <tr>\n",
       "      <td>2012-05-22</td>\n",
       "      <td>31.0000</td>\n",
       "    </tr>\n",
       "    <tr>\n",
       "      <td>2012-05-23</td>\n",
       "      <td>32.0000</td>\n",
       "    </tr>\n",
       "    <tr>\n",
       "      <td>2012-05-24</td>\n",
       "      <td>33.0300</td>\n",
       "    </tr>\n",
       "  </tbody>\n",
       "</table>\n",
       "</div>"
      ],
      "text/plain": [
       "            Adj. Close\n",
       "Date                  \n",
       "2012-05-18     38.2318\n",
       "2012-05-21     34.0300\n",
       "2012-05-22     31.0000\n",
       "2012-05-23     32.0000\n",
       "2012-05-24     33.0300"
      ]
     },
     "execution_count": 5,
     "metadata": {},
     "output_type": "execute_result"
    }
   ],
   "source": [
    "df.head()"
   ]
  },
  {
   "cell_type": "code",
   "execution_count": 6,
   "metadata": {},
   "outputs": [],
   "source": [
    "forecast_out=30"
   ]
  },
  {
   "cell_type": "markdown",
   "metadata": {},
   "source": [
    "<h4>Shift 30 rows of Adj. Close and make new column called Prediction(shifted n unit up)<h4>"
   ]
  },
  {
   "cell_type": "code",
   "execution_count": 7,
   "metadata": {},
   "outputs": [
    {
     "data": {
      "text/html": [
       "<div>\n",
       "<style scoped>\n",
       "    .dataframe tbody tr th:only-of-type {\n",
       "        vertical-align: middle;\n",
       "    }\n",
       "\n",
       "    .dataframe tbody tr th {\n",
       "        vertical-align: top;\n",
       "    }\n",
       "\n",
       "    .dataframe thead th {\n",
       "        text-align: right;\n",
       "    }\n",
       "</style>\n",
       "<table border=\"1\" class=\"dataframe\">\n",
       "  <thead>\n",
       "    <tr style=\"text-align: right;\">\n",
       "      <th></th>\n",
       "      <th>Adj. Close</th>\n",
       "      <th>Prediction</th>\n",
       "    </tr>\n",
       "    <tr>\n",
       "      <th>Date</th>\n",
       "      <th></th>\n",
       "      <th></th>\n",
       "    </tr>\n",
       "  </thead>\n",
       "  <tbody>\n",
       "    <tr>\n",
       "      <td>2012-05-18</td>\n",
       "      <td>38.2318</td>\n",
       "      <td>31.20</td>\n",
       "    </tr>\n",
       "    <tr>\n",
       "      <td>2012-05-21</td>\n",
       "      <td>34.0300</td>\n",
       "      <td>31.47</td>\n",
       "    </tr>\n",
       "    <tr>\n",
       "      <td>2012-05-22</td>\n",
       "      <td>31.0000</td>\n",
       "      <td>31.73</td>\n",
       "    </tr>\n",
       "    <tr>\n",
       "      <td>2012-05-23</td>\n",
       "      <td>32.0000</td>\n",
       "      <td>32.17</td>\n",
       "    </tr>\n",
       "    <tr>\n",
       "      <td>2012-05-24</td>\n",
       "      <td>33.0300</td>\n",
       "      <td>31.47</td>\n",
       "    </tr>\n",
       "  </tbody>\n",
       "</table>\n",
       "</div>"
      ],
      "text/plain": [
       "            Adj. Close  Prediction\n",
       "Date                              \n",
       "2012-05-18     38.2318       31.20\n",
       "2012-05-21     34.0300       31.47\n",
       "2012-05-22     31.0000       31.73\n",
       "2012-05-23     32.0000       32.17\n",
       "2012-05-24     33.0300       31.47"
      ]
     },
     "execution_count": 7,
     "metadata": {},
     "output_type": "execute_result"
    }
   ],
   "source": [
    "df['Prediction'] = df[['Adj. Close']].shift(~forecast_out)\n",
    "df.head()"
   ]
  },
  {
   "cell_type": "markdown",
   "metadata": {},
   "source": [
    "Define Correlation between Adj. Close and Prediction (dark color depict low cor. and bright color shown more correlation between two column"
   ]
  },
  {
   "cell_type": "code",
   "execution_count": 8,
   "metadata": {},
   "outputs": [
    {
     "data": {
      "text/plain": [
       "<matplotlib.axes._subplots.AxesSubplot at 0x7f873e830cf8>"
      ]
     },
     "execution_count": 8,
     "metadata": {},
     "output_type": "execute_result"
    }
   ],
   "source": [
    "import seaborn as sbn\n",
    "sbn.heatmap(df.corr())"
   ]
  },
  {
   "cell_type": "markdown",
   "metadata": {},
   "source": [
    "<h3>Create numpy array x which contain Adj. Close column only and remove last 30 data from it</h3>"
   ]
  },
  {
   "cell_type": "code",
   "execution_count": 9,
   "metadata": {},
   "outputs": [
    {
     "name": "stdout",
     "output_type": "stream",
     "text": [
      "[[ 38.2318]\n",
      " [ 34.03  ]\n",
      " [ 31.    ]\n",
      " ...\n",
      " [159.39  ]\n",
      " [160.06  ]\n",
      " [152.19  ]]\n"
     ]
    },
    {
     "data": {
      "text/plain": [
       "(1441, 1)"
      ]
     },
     "execution_count": 9,
     "metadata": {},
     "output_type": "execute_result"
    }
   ],
   "source": [
    "x= np.array(df.drop(['Prediction'],1))\n",
    "print(x)\n",
    "X=x[:~forecast_out]\n",
    "X.shape"
   ]
  },
  {
   "cell_type": "markdown",
   "metadata": {},
   "source": [
    "y  is an numpy array which contain Prediction Column and remove last null 30 values"
   ]
  },
  {
   "cell_type": "code",
   "execution_count": 10,
   "metadata": {},
   "outputs": [
    {
     "name": "stdout",
     "output_type": "stream",
     "text": [
      "[31.2  31.47 31.73 ...   nan   nan   nan]\n",
      "[ 31.2   31.47  31.73 ... 159.39 160.06 152.19]\n"
     ]
    }
   ],
   "source": [
    "y=np.array(df[\"Prediction\"])\n",
    "Y=y[:~forecast_out]\n",
    "print(y)\n",
    "print(Y)"
   ]
  },
  {
   "cell_type": "markdown",
   "metadata": {},
   "source": [
    "Convert data into testing data=33%  and remaining traininig data=67%  "
   ]
  },
  {
   "cell_type": "code",
   "execution_count": 11,
   "metadata": {},
   "outputs": [],
   "source": [
    "X_train, X_test, y_train, y_test = train_test_split(X, Y, test_size=0.33, random_state=42)"
   ]
  },
  {
   "cell_type": "markdown",
   "metadata": {},
   "source": [
    "<h4> Using \"Simple Vector Machine\"   algorithm to train data</h4>"
   ]
  },
  {
   "cell_type": "code",
   "execution_count": 12,
   "metadata": {},
   "outputs": [
    {
     "data": {
      "text/plain": [
       "SVR(C=1000.0, cache_size=200, coef0=0.0, degree=3, epsilon=0.1, gamma=0.1,\n",
       "  kernel='rbf', max_iter=-1, shrinking=True, tol=0.001, verbose=False)"
      ]
     },
     "execution_count": 12,
     "metadata": {},
     "output_type": "execute_result"
    }
   ],
   "source": [
    "svr=SVR(kernel='rbf',C=1e3,gamma=0.1)\n",
    "svr.fit(X_train,y_train)"
   ]
  },
  {
   "cell_type": "markdown",
   "metadata": {},
   "source": [
    "Checking Accuracy of Testing data"
   ]
  },
  {
   "cell_type": "code",
   "execution_count": 13,
   "metadata": {},
   "outputs": [
    {
     "data": {
      "text/plain": [
       "0.9843728510988178"
      ]
     },
     "execution_count": 13,
     "metadata": {},
     "output_type": "execute_result"
    }
   ],
   "source": [
    "svr.score(X_test,y_test)"
   ]
  },
  {
   "cell_type": "markdown",
   "metadata": {},
   "source": [
    "Checking Accuracy score of Training data"
   ]
  },
  {
   "cell_type": "code",
   "execution_count": 14,
   "metadata": {},
   "outputs": [
    {
     "data": {
      "text/plain": [
       "0.9867705340217551"
      ]
     },
     "execution_count": 14,
     "metadata": {},
     "output_type": "execute_result"
    }
   ],
   "source": [
    "svr.score(X_train,y_train)"
   ]
  },
  {
   "cell_type": "markdown",
   "metadata": {},
   "source": [
    "<h4> Fit The model using algorith \"Linear Regression\" </h4>"
   ]
  },
  {
   "cell_type": "code",
   "execution_count": 15,
   "metadata": {},
   "outputs": [
    {
     "data": {
      "text/plain": [
       "LinearRegression(copy_X=True, fit_intercept=True, n_jobs=None,\n",
       "         normalize=False)"
      ]
     },
     "execution_count": 15,
     "metadata": {},
     "output_type": "execute_result"
    }
   ],
   "source": [
    "LR=LinearRegression()\n",
    "LR.fit(X_train,y_train)"
   ]
  },
  {
   "cell_type": "markdown",
   "metadata": {},
   "source": [
    "Checking testing data accuracy "
   ]
  },
  {
   "cell_type": "code",
   "execution_count": 16,
   "metadata": {},
   "outputs": [
    {
     "data": {
      "text/plain": [
       "0.9787876187651161"
      ]
     },
     "execution_count": 16,
     "metadata": {},
     "output_type": "execute_result"
    }
   ],
   "source": [
    "LR.score(X_test,y_test)"
   ]
  },
  {
   "cell_type": "markdown",
   "metadata": {},
   "source": [
    "Hence Accuracy of svm is good as compare to linear Regression so we chose svm for prediction in later."
   ]
  },
  {
   "cell_type": "markdown",
   "metadata": {},
   "source": [
    "<h3> In practical we define algorithms in once and used that algorittms one by one.</h3>\n",
    "* Building  empty list name model define all algorithm."
   ]
  },
  {
   "cell_type": "code",
   "execution_count": 17,
   "metadata": {},
   "outputs": [],
   "source": [
    "model = []\n",
    "model.append(('SVR',SVR(kernel='rbf',C=1e3,gamma=0.1)))\n",
    "model.append(('LR',LinearRegression()))\n",
    "result=[]\n",
    "names=[]"
   ]
  },
  {
   "cell_type": "markdown",
   "metadata": {},
   "source": [
    "using for loop for fitting  each algorithm one by one .\n",
    "* name variable store name of the algorithm and res store algorith function to define.\n",
    "* msg store all name and algorith which define name and score of testing and training data\n",
    "* result and name are empty list  define previously store name of algo and score of there testing and training data.\n",
    "* last print the msg variable."
   ]
  },
  {
   "cell_type": "code",
   "execution_count": 18,
   "metadata": {},
   "outputs": [
    {
     "name": "stdout",
     "output_type": "stream",
     "text": [
      "SVR 0.986771 0.984373\n",
      "LR 0.980213 0.978788\n"
     ]
    }
   ],
   "source": [
    "for name, res in model:\n",
    "    names.append(name)\n",
    "    res.fit(X_train,y_train)\n",
    "    res_test=res.score(X_test,y_test)\n",
    "    res_train=res.score(X_train,y_train)\n",
    "    msg=\"%s %f %f\"%(name,res_train,res_test)\n",
    "    result.append(res_train)\n",
    "    result.append(res_test)\n",
    "    print(msg)"
   ]
  },
  {
   "cell_type": "markdown",
   "metadata": {},
   "source": [
    "Now we take last 30 row data in numpy array x_forecast which previously remove from Adj. Close column and drop Prediction column from df data"
   ]
  },
  {
   "cell_type": "code",
   "execution_count": 19,
   "metadata": {},
   "outputs": [],
   "source": [
    "x_forecast = np.array(df.drop(['Prediction'],1))[~forecast_out:]"
   ]
  },
  {
   "cell_type": "markdown",
   "metadata": {},
   "source": [
    "All data value of x_forecast"
   ]
  },
  {
   "cell_type": "code",
   "execution_count": 20,
   "metadata": {},
   "outputs": [
    {
     "name": "stdout",
     "output_type": "stream",
     "text": [
      "[[176.41]\n",
      " [173.15]\n",
      " [179.52]\n",
      " [179.96]\n",
      " [177.36]\n",
      " [176.01]\n",
      " [177.91]\n",
      " [178.99]\n",
      " [183.29]\n",
      " [184.93]\n",
      " [181.46]\n",
      " [178.32]\n",
      " [175.94]\n",
      " [176.62]\n",
      " [180.4 ]\n",
      " [179.78]\n",
      " [183.71]\n",
      " [182.34]\n",
      " [185.23]\n",
      " [184.76]\n",
      " [181.88]\n",
      " [184.19]\n",
      " [183.86]\n",
      " [185.09]\n",
      " [172.56]\n",
      " [168.15]\n",
      " [169.39]\n",
      " [164.89]\n",
      " [159.39]\n",
      " [160.06]\n",
      " [152.19]]\n"
     ]
    }
   ],
   "source": [
    "print(x_forecast)\n"
   ]
  },
  {
   "cell_type": "markdown",
   "metadata": {},
   "source": [
    "Now Predict 30 value of prevous x_forecast data for next n days "
   ]
  },
  {
   "cell_type": "code",
   "execution_count": 21,
   "metadata": {},
   "outputs": [],
   "source": [
    "svr_predict= svr.predict(x_forecast)\n",
    "LR_predict= LR.predict(x_forecast)"
   ]
  },
  {
   "cell_type": "code",
   "execution_count": 22,
   "metadata": {},
   "outputs": [
    {
     "name": "stdout",
     "output_type": "stream",
     "text": [
      "[176.4017784  174.91085714 181.67633875 180.33638235 179.86355825\n",
      " 175.8915459  182.21790424 183.11857358 178.84507892 170.21300181\n",
      " 180.13298121 183.29393615 175.8568244  176.91541025 179.45315864\n",
      " 180.85624327 176.53158493 181.20444711 169.82443479 170.72450871\n",
      " 180.86108998 173.56618899 175.60802506 169.91946106 175.66411658\n",
      " 172.4095709  172.6869149  171.49264508 168.42748638 167.08146743\n",
      " 161.89601406]\n",
      "[180.85646427 177.54783922 184.01285196 184.45941485 181.82063414\n",
      " 180.450498   182.37883775 183.47494666 187.83908399 189.50354567\n",
      " 185.98178834 182.79495317 180.37945391 181.06959655 184.90597774\n",
      " 184.27673003 188.26534857 186.87491412 189.80802037 189.33101001\n",
      " 186.40805291 188.75250808 188.41758592 189.66593218 176.94903898\n",
      " 172.47326093 173.73175635 169.16463589 163.58259977 164.26259326\n",
      " 156.27520703]\n"
     ]
    }
   ],
   "source": [
    "print(svr_predict)\n",
    "print(LR_predict)"
   ]
  },
  {
   "cell_type": "markdown",
   "metadata": {},
   "source": [
    "Showing Prediction using matplot lib graph where \n",
    "* blue colour reprsent Prediction values and \n",
    "* yellow represent x_Forecast value"
   ]
  },
  {
   "cell_type": "code",
   "execution_count": 23,
   "metadata": {},
   "outputs": [
    {
     "data": {
      "text/plain": [
       "<matplotlib.legend.Legend at 0x7f873aee2ac8>"
      ]
     },
     "execution_count": 23,
     "metadata": {},
     "output_type": "execute_result"
    },
    {
     "data": {
      "image/png": "[encoded data removed]",
      "text/plain": [
       "<Figure size 432x288 with 1 Axes>"
      ]
     },
     "metadata": {
      "needs_background": "light"
     },
     "output_type": "display_data"
    }
   ],
   "source": [
    "import matplotlib.pyplot as plt\n",
    "plt.plot(svr_predict)\n",
    "plt.plot(x_forecast)\n",
    "plt.title (\"Forcast data\")\n",
    "plt.xlabel(\"time\")\n",
    "plt.ylabel(\"Adj. Close\")\n",
    "\n",
    "plt.legend(['Predicted Forcast data ','Forecast data'])"
   ]
  },
  {
   "cell_type": "code",
   "execution_count": null,
   "metadata": {},
   "outputs": [],
   "source": []
  }
 ],
 "metadata": {
  "kernelspec": {
   "display_name": "Python 3",
   "language": "python",
   "name": "python3"
  },
  "language_info": {
   "codemirror_mode": {
    "name": "ipython",
    "version": 3
   },
   "file_extension": ".py",
   "mimetype": "text/x-python",
   "name": "python",
   "nbconvert_exporter": "python",
   "pygments_lexer": "ipython3",
   "version": "3.6.8"
  }
 },
 "nbformat": 4,
 "nbformat_minor": 2
}
